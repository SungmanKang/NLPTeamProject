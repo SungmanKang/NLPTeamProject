{
 "cells": [
  {
   "cell_type": "code",
   "execution_count": null,
   "metadata": {},
   "outputs": [],
   "source": [
    "from transformers import BertModel"
   ]
  },
  {
   "cell_type": "code",
   "execution_count": null,
   "metadata": {},
   "outputs": [],
   "source": [
    "#Train context-only BERTRAM\n",
    "%run train.py --model_cls 'bert' --bert_model 'bert-base-uncased' --output_dir ./outputs2/BERT_context --train_dir ./training/ --vocab ./training/train.vwc100 --emb_file ./fcm/wordEmbeddings/glove.6B.50d.txt --num_train_epochs 5 --emb_dim 768 --max_seq_length 96 --mode 'context' --train_batch_size 48 --no_finetuning --smin 4 --smax 32\n",
    "\n"
   ]
  },
  {
   "cell_type": "code",
   "execution_count": null,
   "metadata": {},
   "outputs": [],
   "source": [
    "#Train form-only BERTRAM\n",
    "%run train.py --model_cls 'bert' --bert_model 'bert-base-uncased' --output_dir ./outputs2/BERT_form --train_dir ./training/ --vocab ./training/train.vwc100 --emb_file ./fcm/wordEmbeddings/glove.6B.50d.txt --num_train_epochs 20 --emb_dim 50 --train_batch_size 64 --smin 1 --smax 1 --max_seq_length 96 --mode 'form' --learning_rate 0.01 --dropout 0.1 \n",
    "\n",
    "#"
   ]
  },
  {
   "cell_type": "code",
   "execution_count": null,
   "metadata": {},
   "outputs": [],
   "source": [
    "#Fuse BERTRAM\n",
    "%run fuse_models.py --form_model ./outputs2/BERT_form --context_model ./outputs2/BERT_context --mode 'add' --output ./outputs2/BERT_fused\n",
    "\n",
    "#"
   ]
  },
  {
   "cell_type": "code",
   "execution_count": null,
   "metadata": {},
   "outputs": [],
   "source": [
    "#Train BERTRAM\n",
    "%run train.py \\\n",
    "    --model_cls 'bert' \\\n",
    "    --bert_model ./outputs2/BERT_fused \\\n",
    "    --output_dir ./outputs2/BERT_fused_trained \\\n",
    "    --train_dir ./training/ \\\n",
    "    --vocab ./training/train.vwc100 \\\n",
    "    --emb_file ./fcm/wordEmbeddings/glove.6B.50d.txt \\\n",
    "    --emb_dim 768 \\\n",
    "    --mode 'add' \\\n",
    "    --train_batch_size 48 \\\n",
    "    --max_seq_length 96 \\\n",
    "    --num_train_epochs 5 \\\n",
    "    --smin 4 \\\n",
    "    --smax 32 \\\n",
    "    --optimize_only_combinator \\\n",
    "    --learning_rate 0.01 \\\n",
    "    --dropout 0.1 "
   ]
  },
  {
   "cell_type": "code",
   "execution_count": null,
   "metadata": {},
   "outputs": [],
   "source": []
  }
 ],
 "metadata": {
  "kernelspec": {
   "display_name": "Python 3 (ipykernel)",
   "language": "python",
   "name": "python3"
  },
  "language_info": {
   "codemirror_mode": {
    "name": "ipython",
    "version": 3
   },
   "file_extension": ".py",
   "mimetype": "text/x-python",
   "name": "python",
   "nbconvert_exporter": "python",
   "pygments_lexer": "ipython3",
   "version": "3.7.13"
  }
 },
 "nbformat": 4,
 "nbformat_minor": 4
}
